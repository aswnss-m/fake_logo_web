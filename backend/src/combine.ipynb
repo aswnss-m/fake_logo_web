{
 "cells": [
  {
   "cell_type": "code",
   "execution_count": 2,
   "metadata": {},
   "outputs": [],
   "source": [
    "import numpy as np\n",
    "import pandas as pd\n"
   ]
  },
  {
   "cell_type": "code",
   "execution_count": 3,
   "metadata": {},
   "outputs": [],
   "source": [
    "csv_file = ['annotated_feature_vectors_0.csv', 'annotated_feature_vectors_1.csv', 'annotated_feature_vectors_2.csv']\n",
    "npy_files = ['feature_vectors_0.npy', 'feature_vectors_1.npy', 'feature_vectors_2.npy']"
   ]
  },
  {
   "cell_type": "code",
   "execution_count": 5,
   "metadata": {},
   "outputs": [],
   "source": [
    "#combine the csv files\n",
    "df = pd.read_csv(csv_file[0])\n",
    "for i in range(1, len(csv_file)):\n",
    "    df = pd.concat([df, pd.read_csv(csv_file[i])])\n",
    "#combine the npy files\n",
    "feature_vectors = np.load(npy_files[0])\n",
    "for i in range(1, len(npy_files)):\n",
    "    feature_vectors = np.concatenate((feature_vectors, np.load(npy_files[i])))\n",
    "\n",
    "#save the combined csv file\n",
    "df.to_csv('combined_annotations.csv', index=False)\n",
    "#save the combined npy file\n",
    "np.save('combined_features.npy', feature_vectors)"
   ]
  }
 ],
 "metadata": {
  "kernelspec": {
   "display_name": ".env",
   "language": "python",
   "name": "python3"
  },
  "language_info": {
   "codemirror_mode": {
    "name": "ipython",
    "version": 3
   },
   "file_extension": ".py",
   "mimetype": "text/x-python",
   "name": "python",
   "nbconvert_exporter": "python",
   "pygments_lexer": "ipython3",
   "version": "3.10.11"
  },
  "orig_nbformat": 4
 },
 "nbformat": 4,
 "nbformat_minor": 2
}
