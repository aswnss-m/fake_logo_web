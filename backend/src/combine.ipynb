{
 "cells": [
  {
   "cell_type": "code",
   "execution_count": null,
   "metadata": {},
   "outputs": [],
   "source": [
    "import numpy as np\n",
    "import pandas as pd\n"
   ]
  },
  {
   "cell_type": "code",
   "execution_count": null,
   "metadata": {},
   "outputs": [],
   "source": [
    "csv_file = ['annotated_feature_vectors_0.csv', 'annotated_feature_vectors_1.csv', 'annotated_feature_vectors_2.csv']\n",
    "npy_files = ['feature_vectors_0.npy', 'feature_vectors_1.npy', 'feature_vectors_2.npy']"
   ]
  }
 ],
 "metadata": {
  "language_info": {
   "name": "python"
  },
  "orig_nbformat": 4
 },
 "nbformat": 4,
 "nbformat_minor": 2
}
